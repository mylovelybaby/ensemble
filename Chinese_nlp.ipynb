{
 "cells": [
  {
   "cell_type": "markdown",
   "metadata": {},
   "source": [
    "# Chinese NLP Toolbox Evaluation"
   ]
  },
  {
   "cell_type": "markdown",
   "metadata": {},
   "source": [
    "# THULAC\n",
    "THULAC（THU Lexical Analyzer for Chinese）由清华大学自然语言处理与社会人文计算实验室研制推出的一套中文词法分析工具包，具有<b>中文分词和词性标注功能</b>\n",
    "\n",
    "https://github.com/thunlp/THULAC-Python\n",
    "\n",
    "支持 python, c++, java"
   ]
  },
  {
   "cell_type": "code",
   "execution_count": 1,
   "metadata": {
    "collapsed": true
   },
   "outputs": [],
   "source": [
    "import thulac "
   ]
  },
  {
   "cell_type": "code",
   "execution_count": 172,
   "metadata": {},
   "outputs": [
    {
     "name": "stdout",
     "output_type": "stream",
     "text": [
      "Model loaded succeed\n",
      "欢迎_v 科研_n 人员_n 、_w 技术_n 工程师_n 、_w 企事业_n 单位_n 与_p 个人_n 参与_v NLPIR_x 平台_n 的_u 建设_v 工作_v 。_w\n"
     ]
    }
   ],
   "source": [
    "thu1 = thulac.thulac()  #默认模式\n",
    "#thu1 = thulac.thulac(seg_only=True)  #只进行分词，不进行词性标注\n",
    "text = thu1.cut(\"欢迎科研人员、技术工程师、企事业单位与个人参与NLPIR平台的建设工作。\", text=True)  #进行一句话分词\n",
    "#text_list = thu1.cut(\"我爱北京天安门\", text=False)  #进行一句话分词\n",
    "print(text)"
   ]
  },
  {
   "cell_type": "markdown",
   "metadata": {},
   "source": [
    "# NLPIR-ICTCLAS\n",
    "- use PyNLPIR A Python wrapper around the NLPIR/ICTCLASA \n",
    "- <b>分词，词性标注，关键词抽取</b>\n",
    "\n",
    "https://github.com/tsroten/pynlpir"
   ]
  },
  {
   "cell_type": "code",
   "execution_count": 171,
   "metadata": {},
   "outputs": [
    {
     "name": "stdout",
     "output_type": "stream",
     "text": [
      "欢迎_verb 科研_noun 人员_noun 、_punctuation mark 技术_noun 工程师_noun 、_punctuation mark 企事业_noun 单位_noun 与_conjunction 个人_noun 参与_verb NLPIR_noun 平台_noun 的_particle 建设_verb 工作_verb 。_punctuation mark\n"
     ]
    }
   ],
   "source": [
    "# Segmentation and pos tagging\n",
    "import pynlpir\n",
    "pynlpir.open()\n",
    "\n",
    "s = '欢迎科研人员、技术工程师、企事业单位与个人参与NLPIR平台的建设工作。'\n",
    "pynlpir.segment(s)\n",
    "#print(pynlpir.segment(s, pos_tagging=False))\n",
    "termlist = pynlpir.segment(s, pos_tagging=True)\n",
    "termlist2 = []\n",
    "for word,nature in termlist:\n",
    "    termlist2.append('_'.join([word,nature]))\n",
    "print(' '.join(termlist2))\n",
    "pynlpir.close()"
   ]
  },
  {
   "cell_type": "code",
   "execution_count": 183,
   "metadata": {},
   "outputs": [
    {
     "name": "stdout",
     "output_type": "stream",
     "text": [
      "文强,陈洪刚,财产,市政府,判处,死刑,没收,人民法院,宣判,来源\n"
     ]
    }
   ],
   "source": [
    "# keyphrase extraction\n",
    "import pynlpir\n",
    "pynlpir.open()\n",
    "\n",
    "topK = 10\n",
    "s = '重庆晚报6月11日报道  昨日，市政府公众信息网发布消息称，经2010年5月13日市政府第70次常务会议通过，给予文强、陈洪刚二人行政开除处分。\\n今年4月14日，市第五中级人民法院以受贿罪，包庇、纵容黑社会性质组织罪，巨额财产来源不明罪，强奸罪数罪并罚判处文强死刑，剥夺政治权利终身，并处没收个人全部财产。5月21日，市高级人民法院对文强案二审宣判，依法驳回文强上诉，维持一审的死刑判决。\\n2月25日，市公安局交警总队原总队长陈洪刚受贿案在市第五中级人民法院一审宣判。陈洪刚因犯受贿，包庇、纵容黑社会性质组织，巨额财产来源不明，伪造居民身份证罪，数罪并罚，被判处有期徒刑20年，没收个人财产40万元人民币，追缴赃款326万余元及不明来源财产584万余元。记者 李伟\\n'\n",
    "keywordList = pynlpir.get_key_words(s, weighted=False)\n",
    "pynlpir.close()\n",
    "\n",
    "print(','.join(keywordList[:topK]))"
   ]
  },
  {
   "cell_type": "markdown",
   "metadata": {},
   "source": [
    "# jieba\n",
    "- 基于前缀词典实现高效的词图扫描，生成句子中汉字所有可能成词情况所构成的有向无环图 (DAG)\n",
    "\n",
    "- 采用了动态规划查找最大概率路径, 找出基于词频的最大切分组合\n",
    "\n",
    "- 对于未登录词，采用了基于汉字成词能力的 HMM 模型，使用了 Viterbi 算法\n",
    "- <b>分词，词性标注，关键词抽取</b>\n",
    "\n",
    "https://github.com/fxsjy/jieba"
   ]
  },
  {
   "cell_type": "code",
   "execution_count": 174,
   "metadata": {},
   "outputs": [
    {
     "name": "stdout",
     "output_type": "stream",
     "text": [
      "Default Mode: 欢迎 科研人员 、 技术 工程师 、 企事业 单位 与 个人 参与 NLPIR 平台 的 建设 工作 。\n"
     ]
    }
   ],
   "source": [
    "# segmentation\n",
    "import jieba\n",
    "\n",
    "seg_list = jieba.cut(\"欢迎科研人员、技术工程师、企事业单位与个人参与NLPIR平台的建设工作。\", cut_all=False)\n",
    "print(\"Default Mode: \" + \" \".join(seg_list))  # 精确模式"
   ]
  },
  {
   "cell_type": "code",
   "execution_count": 175,
   "metadata": {},
   "outputs": [
    {
     "name": "stdout",
     "output_type": "stream",
     "text": [
      "欢迎＿v 科研人员＿n 、＿x 技术＿n 工程师＿n 、＿x 企事业＿n 单位＿n 与＿p 个人＿n 参与＿v NLPIR＿eng 平台＿n 的＿uj 建设＿vn 工作＿vn 。＿x\n"
     ]
    }
   ],
   "source": [
    "# pos tagging\n",
    "import jieba.posseg as pseg\n",
    "\n",
    "words = pseg.cut(\"欢迎科研人员、技术工程师、企事业单位与个人参与NLPIR平台的建设工作。\")\n",
    "result = []\n",
    "for word, flag in words:\n",
    "    result.append(word + '＿' +flag)\n",
    "print(' '.join(result))"
   ]
  },
  {
   "cell_type": "code",
   "execution_count": 178,
   "metadata": {},
   "outputs": [
    {
     "name": "stdout",
     "output_type": "stream",
     "text": [
      "\u001b[93mKey Phrase Extraction Using TFIDF: \u001b[0m文强,陈洪刚,巨额财产,来源不明,数罪并罚,包庇,一审,万余元,宣判,黑社会\n",
      "\u001b[93mKey Phrase Extraction Using TextRank: \u001b[0m财产,性质,来源不明,死刑,纵容,没收,市政府,巨额财产,数罪并罚,包庇\n"
     ]
    }
   ],
   "source": [
    "# Keyphrase extraction\n",
    "import jieba.analyse\n",
    "\n",
    "#'基于 TF-IDF 算法的关键词抽取'\n",
    "content = '重庆晚报6月11日报道  昨日，市政府公众信息网发布消息称，经2010年5月13日市政府第70次常务会议通过，给予文强、陈洪刚二人行政开除处分。\\n今年4月14日，市第五中级人民法院以受贿罪，包庇、纵容黑社会性质组织罪，巨额财产来源不明罪，强奸罪数罪并罚判处文强死刑，剥夺政治权利终身，并处没收个人全部财产。5月21日，市高级人民法院对文强案二审宣判，依法驳回文强上诉，维持一审的死刑判决。\\n2月25日，市公安局交警总队原总队长陈洪刚受贿案在市第五中级人民法院一审宣判。陈洪刚因犯受贿，包庇、纵容黑社会性质组织，巨额财产来源不明，伪造居民身份证罪，数罪并罚，被判处有期徒刑20年，没收个人财产40万元人民币，追缴赃款326万余元及不明来源财产584万余元。记者 李伟\\n'\n",
    "topK = 10\n",
    "tags_tfidf = jieba.analyse.extract_tags(content, topK=topK, withWeight = False)\n",
    "tags_textrank = jieba.analyse.textrank(content, topK=topK, withWeight = False)\n",
    "\n",
    "print('\\033[93m' + \"Key Phrase Extraction Using TFIDF: \" + '\\033[0m' + \",\".join(tags_tfidf))\n",
    "print('\\033[93m' + \"Key Phrase Extraction Using TextRank: \" + '\\033[0m' + \",\".join(tags_textrank))"
   ]
  },
  {
   "cell_type": "markdown",
   "metadata": {},
   "source": [
    "# HanLP (java)\n",
    "- 中文分词\n",
    "- 词性标注\n",
    "- 实体识别\n",
    "- 关键词提取\n",
    "- 自动摘要\n",
    "- 短语提取\n",
    "- 拼音转换\n",
    "- 简繁转换\n",
    "- 文本推荐\n",
    "- 依存句法分析\n",
    "- 语料库工具\n",
    "\n",
    "https://github.com/hankcs/HanLP"
   ]
  },
  {
   "cell_type": "markdown",
   "metadata": {},
   "source": [
    "# ANSJ (java)\n",
    "- 这是一个基于n-Gram+CRF+HMM的中文分词的java实现。\n",
    "- 分词速度达到每秒钟大约200万字左右（mac air下测试），准确率能达到96%以上\n",
    "- 目前实现了：<b>中文分词、关键字提取、自动摘要、关键字标记等功能</b>\n",
    "- 可以应用到自然语言处理等方面，适用于对分词效果要求高的各种项目.\n",
    "- 近1年内有更新维护，更新活跃\n",
    "\n",
    "https://github.com/NLPchina/ansj_seg"
   ]
  },
  {
   "cell_type": "markdown",
   "metadata": {},
   "source": [
    "# FudanNLP (java)\n",
    "- 信息检索： **文本分类 新闻聚类**\n",
    "- 中文处理： **中文分词 词性标注 实体名识别 关键词抽取 依存句法分析 时间短语识别**\n",
    "- 结构化学习： **在线学习 层次分类 聚类**"
   ]
  },
  {
   "cell_type": "markdown",
   "metadata": {},
   "source": [
    "# THUTAG (java)\n",
    " - A Package of **Kephrase Extraction and Social Tag Suggetion**\n",
    " \n",
    "https://github.com/FudanNLP/fnlp"
   ]
  },
  {
   "cell_type": "markdown",
   "metadata": {},
   "source": [
    "# 哈工大LTP\n",
    "- originally written in C++. provide interface for Python and Java\n",
    "- Segmentation with customed lexicon\n",
    "\n",
    "https://github.com/HIT-SCIR/ltp\n",
    "\n",
    "https://github.com/HIT-SCIR/pyltp"
   ]
  },
  {
   "cell_type": "code",
   "execution_count": 1,
   "metadata": {},
   "outputs": [
    {
     "name": "stdout",
     "output_type": "stream",
     "text": [
      "元芳 你 怎么 看\n"
     ]
    }
   ],
   "source": [
    "# Segmentation 分词\n",
    "from pyltp import Segmentor\n",
    "segmentor = Segmentor()\n",
    "segmentor.load(\"/home/user/Python_notebooks/chinese_nlp/ltp-cws/ltp_data_v3.4.0/cws.model\")\n",
    "words = segmentor.segment(\"元芳你怎么看\")\n",
    "print(\" \".join(words))\n",
    "segmentor.release()"
   ]
  },
  {
   "cell_type": "code",
   "execution_count": 19,
   "metadata": {},
   "outputs": [
    {
     "name": "stdout",
     "output_type": "stream",
     "text": [
      "元芳_nh 你_r 怎么_r 看_v\n"
     ]
    }
   ],
   "source": [
    "# POS Tagging 词性标注\n",
    "# -*- coding: utf-8 -*-\n",
    "from pyltp import Postagger\n",
    "postagger = Postagger() # 初始化实例\n",
    "postagger.load(\"/home/user/Python_notebooks/chinese_nlp/ltp-cws/ltp_data_v3.4.0/pos.model\")  # 加载模型\n",
    "\n",
    "words = ['元芳', '你', '怎么', '看']  # 分词结果\n",
    "postags = postagger.postag(words)  # 词性标注\n",
    "\n",
    "result = []\n",
    "for word,pos in zip(words,postags):\n",
    "    result.append(word + '_' + pos)\n",
    "print(' '.join(result))\n",
    "postagger.release()  # 释放模型"
   ]
  },
  {
   "cell_type": "code",
   "execution_count": 29,
   "metadata": {},
   "outputs": [
    {
     "name": "stdout",
     "output_type": "stream",
     "text": [
      "元芳_S-Nh 你_O 怎么_O 看_O\n"
     ]
    }
   ],
   "source": [
    "# Named Entity Recognition 命名实体识别\n",
    "# 人名，机构名，地名\n",
    "# -*- coding: utf-8 -*-\n",
    "from pyltp import NamedEntityRecognizer\n",
    "recognizer = NamedEntityRecognizer() # 初始化实例\n",
    "recognizer.load(\"/home/user/Python_notebooks/chinese_nlp/ltp-cws/ltp_data_v3.4.0/ner.model\")  # 加载模型\n",
    "\n",
    "words = ['元芳', '你', '怎么', '看']\n",
    "postags = ['nh', 'r', 'r', 'v']\n",
    "netags = recognizer.recognize(words, postags)  # 命名实体识别\n",
    "\n",
    "result = []\n",
    "for word, netag in zip(words,netags):\n",
    "    result.append(word+\"_\"+netag)\n",
    "print(' '.join(result))\n",
    "recognizer.release()  # 释放模型"
   ]
  },
  {
   "cell_type": "markdown",
   "metadata": {},
   "source": [
    "# Performance Comparison\n",
    "\n",
    "## Segmentation\n",
    "Second International Chinese Word Segmentation Bakeoff data contains:\n",
    "\n",
    "http://sighan.cs.uchicago.edu/bakeoff2005/\n",
    "\n",
    "- CKIP, Academia Sinica, Taiwan (604KB, traditional chinese)\n",
    "\n",
    "- City University of Hong Kong, Hong Kong SAR (197KB, traditional chinese)\n",
    "\n",
    "- Beijing Universty, China (498KB)\n",
    "\n",
    "- Microsoft Research, China (548KB)"
   ]
  },
  {
   "cell_type": "code",
   "execution_count": 1,
   "metadata": {
    "collapsed": true
   },
   "outputs": [],
   "source": [
    "import matplotlib.pyplot as plt\n",
    "%matplotlib inline\n",
    "plt.rcParams['figure.figsize'] = (7.0, 4.0) # set default size of plots\n",
    "plt.rcParams['image.interpolation'] = 'nearest'\n",
    "plt.rcParams['image.cmap'] = 'gray'"
   ]
  },
  {
   "cell_type": "code",
   "execution_count": 14,
   "metadata": {
    "collapsed": true
   },
   "outputs": [],
   "source": [
    "import pandas as pd\n",
    "\n",
    "score = pd.read_csv('icwb2-result/segmentation_comparison.csv')"
   ]
  },
  {
   "cell_type": "code",
   "execution_count": 15,
   "metadata": {},
   "outputs": [
    {
     "data": {
      "text/plain": [
       "Text(0.5,1,'Fmeasure')"
      ]
     },
     "execution_count": 15,
     "metadata": {},
     "output_type": "execute_result"
    },
    {
     "data": {
      "image/png": "[encoded data removed]",
      "text/plain": [
       "<matplotlib.figure.Figure at 0x7ff8985d1e80>"
      ]
     },
     "metadata": {},
     "output_type": "display_data"
    }
   ],
   "source": [
    "score2 = score.pivot(index='corpus', columns='model', values='fmeasure')\n",
    "score2.plot.bar();\n",
    "plt.title(\"Fmeasure\")"
   ]
  },
  {
   "cell_type": "code",
   "execution_count": 16,
   "metadata": {
    "scrolled": true
   },
   "outputs": [
    {
     "data": {
      "text/plain": [
       "Text(0.5,1,'Time')"
      ]
     },
     "execution_count": 16,
     "metadata": {},
     "output_type": "execute_result"
    },
    {
     "data": {
      "image/png": "[encoded data removed]",
      "text/plain": [
       "<matplotlib.figure.Figure at 0x7ff895c9fa20>"
      ]
     },
     "metadata": {},
     "output_type": "display_data"
    }
   ],
   "source": [
    "score2 = score.pivot(index='corpus', columns='model', values='time')\n",
    "score2.plot.bar();\n",
    "plt.title(\"Time\")"
   ]
  },
  {
   "cell_type": "markdown",
   "metadata": {},
   "source": [
    "## summary\n",
    "- pyltp wins."
   ]
  },
  {
   "cell_type": "markdown",
   "metadata": {},
   "source": [
    "## POS tagging\n",
    "**Dataset**:基于哈工大的”词性-词义_合并结果.txt”\n",
    "\n",
    "https://www.ltp-cloud.com/download/\n",
    "\n",
    "**测试方法**: 对于每一行，评测分词结果相同的term总数累加为total，词性准确的term总数累加为correct， 最后通过correct/total计算词性识别的准确性"
   ]
  },
  {
   "cell_type": "markdown",
   "metadata": {},
   "source": [
    "- find the natures computed by all models and ground truth\n",
    "- find the intersection of the natures\n",
    "- only consider these intersection when calculating pos accuracy"
   ]
  },
  {
   "cell_type": "markdown",
   "metadata": {},
   "source": [
    "<caption><center>**Accuracy of various POS tagging models**</center></caption>\n",
    "<img src=\"hit-result/pos_comparison.png\" style=\"width:600px;height:300px;\">"
   ]
  },
  {
   "cell_type": "markdown",
   "metadata": {},
   "source": [
    "## Key Phrase Extraction\n",
    "\n",
    "### Input:\n",
    "\n",
    "重庆晚报6月11日报道  昨日，市政府公众信息网发布消息称，经2010年5月13日市政府第70次常务会议通过，给予文强、陈洪刚二人行政开除处分。今年4月14日，市第五中级人民法院以受贿罪，包庇、纵容黑社会性质组织罪，巨额财产来源不明罪，强奸罪数罪并罚判处文强死刑，剥夺政治权利终身，并处没收个人全部财产。5月21日，市高级人民法院对文强案二审宣判，依法驳回文强上诉，维持一审的死刑判决。2月25日，市公安局交警总队原总队长陈洪刚受贿案在市第五中级人民法院一审宣判。陈洪刚因犯受贿，包庇、纵容黑社会性质组织，巨额财产来源不明，伪造居民身份证罪，数罪并罚，被判处有期徒刑20年，没收个人财产40万元人民币，追缴赃款326万余元及不明来源财产584万余元。记者 李伟\n"
   ]
  },
  {
   "cell_type": "markdown",
   "metadata": {},
   "source": [
    "### Output:\n",
    "\n",
    "- <b>HanLP (textrank)</b>: 文强,没收,陈洪刚,财产,死刑,宣判,五中,包庇,判处,人民法院\n",
    "- <b>jieba-tfidf</b>: 文强,陈洪刚,巨额财产,来源不明,数罪并罚,包庇,一审,万余元,宣判,黑社会\n",
    "- <b>jieba-textrank</b>: 财产,性质,来源不明,死刑,纵容,没收,市政府,巨额财产,数罪并罚,包庇\n",
    "- <b>NLPIR/ICTCLAS</b>: 文强,陈洪刚,财产,市政府,判处,死刑,没收,人民法院,宣判,来源\n",
    "- <b>ANSJ (tfidf)</b>: 文强,人民法院,陈洪刚,中级,巨额,常务,昨日,二审,一审,重庆\n",
    "- <b>THUTAG - WAM</b>: 死刑,交警,身份证,一审,开除,宣判,伪造,财产,受贿,没收\n",
    "- <b>THUTAG - ExpandRank</b>: 市政府,没收,财产,死刑,宣判,财产来源不明,一审,巨额,总队,组织\n",
    "- <b>THUTAG - TFIDF</b>: 洪刚,财产来源不明,包庇,黑社会性质,纵容 \n",
    "- <b>THUTAG - TextPageRank</b>: 洪刚,市政府,没收,财产,死刑,宣判,财产来源不明,一审,巨额,第五 \n",
    "- <b>THUTAG - TopicPageRank</b>: 万元,死刑,洪刚,没收,一审,人民法院,宣判,财产,中级,总队\n",
    "- <b>fnlp</b>: 市,财产,法院,文强,罪,陈洪刚,来源,元,没收,判处"
   ]
  },
  {
   "cell_type": "markdown",
   "metadata": {},
   "source": [
    "### Evaluation\n",
    "**Dataset**: The KeywordPost.dot is from NetEase News, which can be used for keyphrase extraction algorithm. Downloaded from THUTAG project (https://github.com/thunlp/THUTag)\n",
    "<caption><center>**Recall score of various models**</center></caption>\n",
    "<img src=\"keyphrase_evaluation/KeyphraseExtraction.png\" style=\"width:650px;height:300px;\">"
   ]
  }
 ],
 "metadata": {
  "kernelspec": {
   "display_name": "Python 3",
   "language": "python",
   "name": "python3"
  },
  "language_info": {
   "codemirror_mode": {
    "name": "ipython",
    "version": 3
   },
   "file_extension": ".py",
   "mimetype": "text/x-python",
   "name": "python",
   "nbconvert_exporter": "python",
   "pygments_lexer": "ipython3",
   "version": "3.6.3"
  }
 },
 "nbformat": 4,
 "nbformat_minor": 2
}
